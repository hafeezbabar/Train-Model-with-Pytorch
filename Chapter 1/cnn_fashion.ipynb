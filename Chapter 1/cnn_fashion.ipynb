{
 "cells": [
  {
   "cell_type": "markdown",
   "metadata": {},
   "source": [
    "#### Import the Libraries"
   ]
  },
  {
   "cell_type": "code",
   "execution_count": 5,
   "metadata": {},
   "outputs": [],
   "source": [
    "# import the required libraries\n",
    "import numpy as np\n",
    "import torch\n",
    "import torch.nn as nn\n",
    "from torchvision import datasets\n",
    "from torchvision import models\n",
    "from torchvision import transforms\n",
    "from torch.utils.data.sampler import SubsetRandomSampler\n",
    "from torch.profiler import profile, record_function, ProfilerActivity"
   ]
  },
  {
   "cell_type": "code",
   "execution_count": 9,
   "metadata": {},
   "outputs": [],
   "source": [
    "# Bild the data_loader method\n",
    "\n",
    "# data_dir = data set directory\n",
    "# batch_size = Batch Size to processing from large dataset directort\n",
    "# random_seed = 42  Randomly select 42 value for processing\n",
    "# validation_size = 0.1  Take 10% from data set for validation\n",
    "# suffle = True # Suffle the dataset to avoid overfitting/underffiting\n",
    "# test = False # Set the test dateset False\n",
    "def data_loader(data_dir, batch_size, random_seed = 42, validation_size = 0.1, shuffle = True, test = False):\n",
    "    \n",
    "    # Transform the dataset into Tensor for processing\n",
    "    transform = transforms.Compose([transforms.ToTensor()])\n",
    "\n",
    "    # root = data_dir  set the root directory data_dir while download\n",
    "    # train= True   set the dataset for training\n",
    "    # download= True download the dataset if it is not already downloaded \n",
    "    # transform=transform apply the transformation into tensorflow\n",
    "    train_dataset = datasets.FashionMNIST(root = data_dir, train= True, download= True, transform=transform)\n",
    "    valid_dataset = datasets.FashionMNIST(root=data_dir, train=True, download=True, transform=transform)\n",
    "    test_dataset = datasets.FashionMNIST(root=data_dir, train=False, download=True, transform=transform)\n",
    "\n",
    "    # Get the lenght of training datasets\n",
    "    num_train = len(train_dataset)\n",
    "\n",
    "    # set the list of availabe training dataset\n",
    "    indices = list(range(num_train))\n",
    "\n",
    "    # splitting the dateset from collected len of available dataset and multiply with validation pecetenage\n",
    "    split = int(np.floor(validation_size * num_train ))\n",
    "\n",
    "    # checkk the shuffle if it true then apply then following conditions\n",
    "    if shuffle:\n",
    "\n",
    "        # set the random see and random shuffle\n",
    "        np.random.seed(random_seed)\n",
    "        np.random.shuffle(indices)\n",
    "\n",
    "    \n",
    "    # set the training indices and validation indices with indices split\n",
    "    # split the available dataset using indices into training and validation set\n",
    "    training_indices , validation_indices = indices [split:] , indices[:split]  \n",
    "\n",
    "    # Set the sample to get radom sample data\n",
    "    training_sample = SubsetRandomSampler(training_indices)\n",
    "    validation_sample = SubsetRandomSampler(validation_indices)\n",
    "\n",
    "    # Load the dataset \n",
    "    training_loader = torch.uttils.data.DataLoader(train_dataset, batch_size = batch_size , sampler = training_sample)\n",
    "    validation_loader = torch.uttils.data.DataLoader(valid_dataset, batch_size = batch_size , sampler = validation_sample)\n",
    "    test_loader = torch.uttils.data.DataLoader(test_dataset, batch_size = batch_size, shuffle=shuffle)\n",
    "\n",
    "    # Return the dataset loader \n",
    "    return (training_loader , validation_loader , test_loader)\n"
   ]
  },
  {
   "cell_type": "markdown",
   "metadata": {},
   "source": [
    "### Training the model"
   ]
  },
  {
   "cell_type": "code",
   "execution_count": null,
   "metadata": {},
   "outputs": [],
   "source": []
  }
 ],
 "metadata": {
  "kernelspec": {
   "display_name": "base",
   "language": "python",
   "name": "python3"
  },
  "language_info": {
   "codemirror_mode": {
    "name": "ipython",
    "version": 3
   },
   "file_extension": ".py",
   "mimetype": "text/x-python",
   "name": "python",
   "nbconvert_exporter": "python",
   "pygments_lexer": "ipython3",
   "version": "3.11.5"
  }
 },
 "nbformat": 4,
 "nbformat_minor": 2
}
